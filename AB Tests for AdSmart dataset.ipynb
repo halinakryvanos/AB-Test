{
 "cells": [
  {
   "cell_type": "markdown",
   "id": "9f275b8f",
   "metadata": {},
   "source": [
    "## Table of contents\n",
    "\n",
    "1. Overview  \n",
    "\n",
    "2. Import libraries \n",
    "\n",
    "3. Check overall information  \n",
    "\n",
    "4. Data preprocessing  \n",
    "\n",
    "5. Null and Alternative Hypothesis\n",
    "\n",
    "6. Sampling distribution under the null\n",
    "\n",
    "7. Confidence intervals  \n",
    "\n",
    "8. Logistic Regression  \n",
    "\n",
    "9. Conclusions\n",
    "\n",
    "\n",
    "\n",
    "\n",
    "\n",
    "\n"
   ]
  },
  {
   "cell_type": "markdown",
   "id": "1d146366",
   "metadata": {},
   "source": [
    "### 1. OVERVIEW\n",
    "\n",
    "The company is trying new ad design to increase ad success.\n",
    "To do so they made new creative advertising design with SmartAd brand and performed an A/B test in which one group of users have been shown an old ad and another - new one.\n",
    "\n",
    "**Experiment Approach**\n",
    "\n",
    "Our goal is to analyse the results of A/B test and figure out wherever new disign of ad affects the behavior of users in terms of responding to BIO questionnaire.\n",
    "\n",
    "**Null Hypothesis** Hₒ: p = pₒ - There is no significant difference between the ad success rate of both groups  \n",
    "\n",
    "**Alternative Hypothesis** Hₐ: p ≠ pₒ - There is significant difference between the ad success rate of both groups. Given we don’t know if the new design will perform better/worse/equal as our current design, we will perform a two-tailed test  \n",
    "\n",
    "**Confidence Level:** 95% (α=0.05)\n",
    "\n",
    "p and pₒ stand for the conversion rate of the new and old design.\n",
    "\n",
    "\n",
    "### VariableName and Description \n",
    "\n",
    "**auction_id**\tthe unique id of the online user who has been presented the BIO. In standard terminologies this is called an impression id. The user may see the BIO questionnaire but choose not to respond. In that case both the yes and no columns are zero.\n",
    "\n",
    "**experiment**\twhich group the user belongs to - control or exposed. **Control:** users who have been shown a dummy ad. **Exposed:** users who have been shown a creative, an online interactive ad, with the SmartAd brand.\n",
    "\n",
    "**date**\tthe date in YYYY-MM-DD format\n",
    "\n",
    "**hour**\tthe hour of the day in HH format\n",
    "\n",
    "**device_make**\tthe name of the type of device the user has e.g. Samsung platform_os\tthe id of the OS the user has.\n",
    "\n",
    "**browser**\tthe name of the browser the user uses to see the BIO questionnaire.\n",
    "\n",
    "**yes**\t1 if the user chooses the “Yes” radio button for the BIO questionnaire.\n",
    "\n",
    "**no**\t1 if the user chooses the “No” radio button for the BIO questionnaire.\n"
   ]
  },
  {
   "cell_type": "markdown",
   "id": "7fcb6ba2",
   "metadata": {},
   "source": [
    "### 2. Import libraries"
   ]
  },
  {
   "cell_type": "code",
   "execution_count": 1,
   "id": "13acc8f9",
   "metadata": {
    "ExecuteTime": {
     "end_time": "2023-10-19T19:51:14.913174Z",
     "start_time": "2023-10-19T19:51:10.394489Z"
    }
   },
   "outputs": [],
   "source": [
    "# Import necessary libraries\n",
    "import pandas as pd\n",
    "import numpy as np\n",
    "\n",
    "import scipy.stats as stats\n",
    "import statsmodels.api as sm\n",
    "from statsmodels.stats.proportion import proportions_ztest\n",
    "\n",
    "import seaborn as sns\n",
    "import matplotlib.pyplot as plt\n",
    "from matplotlib.lines import Line2D\n",
    "%matplotlib inline\n",
    "import os\n"
   ]
  },
  {
   "cell_type": "code",
   "execution_count": 2,
   "id": "d34163a1",
   "metadata": {
    "ExecuteTime": {
     "end_time": "2023-10-19T19:51:14.927453Z",
     "start_time": "2023-10-19T19:51:14.916578Z"
    }
   },
   "outputs": [],
   "source": [
    "# Set up the format and styles for plots globally\n",
    "sns.set_style('white')\n",
    "plt.rc('axes', titlesize=13)\n",
    "plt.rc('axes', labelsize=12)\n",
    "plt.rc('xtick', labelsize=11)\n",
    "plt.rc('ytick', labelsize=11)\n",
    "plt.rc('legend', fontsize=11)\n",
    "plt.rc('font', size=10)"
   ]
  },
  {
   "cell_type": "code",
   "execution_count": 3,
   "id": "149e1aac",
   "metadata": {
    "ExecuteTime": {
     "end_time": "2023-10-19T19:51:14.934381Z",
     "start_time": "2023-10-19T19:51:14.931541Z"
    }
   },
   "outputs": [],
   "source": [
    "# create path\n",
    "path = r'/Users/macbook/Library/CloudStorage/OneDrive-Personal/Data Analisys/AB testing'\n"
   ]
  },
  {
   "cell_type": "code",
   "execution_count": 4,
   "id": "a80eeba9",
   "metadata": {
    "ExecuteTime": {
     "end_time": "2023-10-19T19:51:14.966692Z",
     "start_time": "2023-10-19T19:51:14.940681Z"
    }
   },
   "outputs": [],
   "source": [
    "df = pd.read_csv(os.path.join(path, 'AdSmart.csv'))"
   ]
  },
  {
   "cell_type": "code",
   "execution_count": 5,
   "id": "5db27f28",
   "metadata": {
    "ExecuteTime": {
     "end_time": "2023-10-19T19:51:14.983496Z",
     "start_time": "2023-10-19T19:51:14.968846Z"
    }
   },
   "outputs": [
    {
     "data": {
      "text/html": [
       "<div>\n",
       "<style scoped>\n",
       "    .dataframe tbody tr th:only-of-type {\n",
       "        vertical-align: middle;\n",
       "    }\n",
       "\n",
       "    .dataframe tbody tr th {\n",
       "        vertical-align: top;\n",
       "    }\n",
       "\n",
       "    .dataframe thead th {\n",
       "        text-align: right;\n",
       "    }\n",
       "</style>\n",
       "<table border=\"1\" class=\"dataframe\">\n",
       "  <thead>\n",
       "    <tr style=\"text-align: right;\">\n",
       "      <th></th>\n",
       "      <th>auction_id</th>\n",
       "      <th>experiment</th>\n",
       "      <th>date</th>\n",
       "      <th>hour</th>\n",
       "      <th>device_make</th>\n",
       "      <th>platform_os</th>\n",
       "      <th>browser</th>\n",
       "      <th>yes</th>\n",
       "      <th>no</th>\n",
       "    </tr>\n",
       "  </thead>\n",
       "  <tbody>\n",
       "    <tr>\n",
       "      <th>0</th>\n",
       "      <td>0008ef63-77a7-448b-bd1e-075f42c55e39</td>\n",
       "      <td>exposed</td>\n",
       "      <td>2020-07-10</td>\n",
       "      <td>8</td>\n",
       "      <td>Generic Smartphone</td>\n",
       "      <td>6</td>\n",
       "      <td>Chrome Mobile</td>\n",
       "      <td>0</td>\n",
       "      <td>0</td>\n",
       "    </tr>\n",
       "    <tr>\n",
       "      <th>1</th>\n",
       "      <td>000eabc5-17ce-4137-8efe-44734d914446</td>\n",
       "      <td>exposed</td>\n",
       "      <td>2020-07-07</td>\n",
       "      <td>10</td>\n",
       "      <td>Generic Smartphone</td>\n",
       "      <td>6</td>\n",
       "      <td>Chrome Mobile</td>\n",
       "      <td>0</td>\n",
       "      <td>0</td>\n",
       "    </tr>\n",
       "    <tr>\n",
       "      <th>2</th>\n",
       "      <td>0016d14a-ae18-4a02-a204-6ba53b52f2ed</td>\n",
       "      <td>exposed</td>\n",
       "      <td>2020-07-05</td>\n",
       "      <td>2</td>\n",
       "      <td>E5823</td>\n",
       "      <td>6</td>\n",
       "      <td>Chrome Mobile WebView</td>\n",
       "      <td>0</td>\n",
       "      <td>1</td>\n",
       "    </tr>\n",
       "    <tr>\n",
       "      <th>3</th>\n",
       "      <td>00187412-2932-4542-a8ef-3633901c98d9</td>\n",
       "      <td>control</td>\n",
       "      <td>2020-07-03</td>\n",
       "      <td>15</td>\n",
       "      <td>Samsung SM-A705FN</td>\n",
       "      <td>6</td>\n",
       "      <td>Facebook</td>\n",
       "      <td>0</td>\n",
       "      <td>0</td>\n",
       "    </tr>\n",
       "    <tr>\n",
       "      <th>4</th>\n",
       "      <td>001a7785-d3fe-4e11-a344-c8735acacc2c</td>\n",
       "      <td>control</td>\n",
       "      <td>2020-07-03</td>\n",
       "      <td>15</td>\n",
       "      <td>Generic Smartphone</td>\n",
       "      <td>6</td>\n",
       "      <td>Chrome Mobile</td>\n",
       "      <td>0</td>\n",
       "      <td>0</td>\n",
       "    </tr>\n",
       "    <tr>\n",
       "      <th>5</th>\n",
       "      <td>0027ce48-d3c6-4935-bb12-dfb5d5627857</td>\n",
       "      <td>control</td>\n",
       "      <td>2020-07-03</td>\n",
       "      <td>15</td>\n",
       "      <td>Samsung SM-G960F</td>\n",
       "      <td>6</td>\n",
       "      <td>Facebook</td>\n",
       "      <td>0</td>\n",
       "      <td>0</td>\n",
       "    </tr>\n",
       "    <tr>\n",
       "      <th>6</th>\n",
       "      <td>002e308b-1a07-49d6-8560-0fbcdcd71e4b</td>\n",
       "      <td>control</td>\n",
       "      <td>2020-07-03</td>\n",
       "      <td>15</td>\n",
       "      <td>Generic Smartphone</td>\n",
       "      <td>6</td>\n",
       "      <td>Chrome Mobile</td>\n",
       "      <td>0</td>\n",
       "      <td>0</td>\n",
       "    </tr>\n",
       "    <tr>\n",
       "      <th>7</th>\n",
       "      <td>00393fb9-ca32-40c0-bfcb-1bd83f319820</td>\n",
       "      <td>control</td>\n",
       "      <td>2020-07-09</td>\n",
       "      <td>5</td>\n",
       "      <td>Samsung SM-G973F</td>\n",
       "      <td>6</td>\n",
       "      <td>Facebook</td>\n",
       "      <td>0</td>\n",
       "      <td>0</td>\n",
       "    </tr>\n",
       "    <tr>\n",
       "      <th>8</th>\n",
       "      <td>004940f5-c642-417a-8fd2-c8e5d989f358</td>\n",
       "      <td>exposed</td>\n",
       "      <td>2020-07-04</td>\n",
       "      <td>0</td>\n",
       "      <td>Generic Smartphone</td>\n",
       "      <td>6</td>\n",
       "      <td>Chrome Mobile WebView</td>\n",
       "      <td>0</td>\n",
       "      <td>0</td>\n",
       "    </tr>\n",
       "    <tr>\n",
       "      <th>9</th>\n",
       "      <td>004c4cc9-f2ca-4df7-adc9-3d0c3c4f0342</td>\n",
       "      <td>control</td>\n",
       "      <td>2020-07-05</td>\n",
       "      <td>14</td>\n",
       "      <td>Generic Smartphone</td>\n",
       "      <td>6</td>\n",
       "      <td>Chrome Mobile</td>\n",
       "      <td>0</td>\n",
       "      <td>0</td>\n",
       "    </tr>\n",
       "  </tbody>\n",
       "</table>\n",
       "</div>"
      ],
      "text/plain": [
       "                             auction_id experiment        date  hour  \\\n",
       "0  0008ef63-77a7-448b-bd1e-075f42c55e39    exposed  2020-07-10     8   \n",
       "1  000eabc5-17ce-4137-8efe-44734d914446    exposed  2020-07-07    10   \n",
       "2  0016d14a-ae18-4a02-a204-6ba53b52f2ed    exposed  2020-07-05     2   \n",
       "3  00187412-2932-4542-a8ef-3633901c98d9    control  2020-07-03    15   \n",
       "4  001a7785-d3fe-4e11-a344-c8735acacc2c    control  2020-07-03    15   \n",
       "5  0027ce48-d3c6-4935-bb12-dfb5d5627857    control  2020-07-03    15   \n",
       "6  002e308b-1a07-49d6-8560-0fbcdcd71e4b    control  2020-07-03    15   \n",
       "7  00393fb9-ca32-40c0-bfcb-1bd83f319820    control  2020-07-09     5   \n",
       "8  004940f5-c642-417a-8fd2-c8e5d989f358    exposed  2020-07-04     0   \n",
       "9  004c4cc9-f2ca-4df7-adc9-3d0c3c4f0342    control  2020-07-05    14   \n",
       "\n",
       "          device_make  platform_os                browser  yes  no  \n",
       "0  Generic Smartphone            6          Chrome Mobile    0   0  \n",
       "1  Generic Smartphone            6          Chrome Mobile    0   0  \n",
       "2               E5823            6  Chrome Mobile WebView    0   1  \n",
       "3   Samsung SM-A705FN            6               Facebook    0   0  \n",
       "4  Generic Smartphone            6          Chrome Mobile    0   0  \n",
       "5    Samsung SM-G960F            6               Facebook    0   0  \n",
       "6  Generic Smartphone            6          Chrome Mobile    0   0  \n",
       "7    Samsung SM-G973F            6               Facebook    0   0  \n",
       "8  Generic Smartphone            6  Chrome Mobile WebView    0   0  \n",
       "9  Generic Smartphone            6          Chrome Mobile    0   0  "
      ]
     },
     "execution_count": 5,
     "metadata": {},
     "output_type": "execute_result"
    }
   ],
   "source": [
    "df.head(10)\n"
   ]
  },
  {
   "cell_type": "markdown",
   "id": "94b90b74",
   "metadata": {},
   "source": [
    "### 3. Check overall information"
   ]
  },
  {
   "cell_type": "code",
   "execution_count": 6,
   "id": "f23f44ad",
   "metadata": {
    "ExecuteTime": {
     "end_time": "2023-10-19T19:51:15.002057Z",
     "start_time": "2023-10-19T19:51:14.985632Z"
    }
   },
   "outputs": [
    {
     "name": "stdout",
     "output_type": "stream",
     "text": [
      "<class 'pandas.core.frame.DataFrame'>\n",
      "RangeIndex: 8077 entries, 0 to 8076\n",
      "Data columns (total 9 columns):\n",
      " #   Column       Non-Null Count  Dtype \n",
      "---  ------       --------------  ----- \n",
      " 0   auction_id   8077 non-null   object\n",
      " 1   experiment   8077 non-null   object\n",
      " 2   date         8077 non-null   object\n",
      " 3   hour         8077 non-null   int64 \n",
      " 4   device_make  8077 non-null   object\n",
      " 5   platform_os  8077 non-null   int64 \n",
      " 6   browser      8077 non-null   object\n",
      " 7   yes          8077 non-null   int64 \n",
      " 8   no           8077 non-null   int64 \n",
      "dtypes: int64(4), object(5)\n",
      "memory usage: 568.0+ KB\n"
     ]
    }
   ],
   "source": [
    "df.info()\n"
   ]
  },
  {
   "cell_type": "code",
   "execution_count": 7,
   "id": "83b57346",
   "metadata": {
    "ExecuteTime": {
     "end_time": "2023-10-19T19:51:15.018448Z",
     "start_time": "2023-10-19T19:51:15.005171Z"
    }
   },
   "outputs": [
    {
     "name": "stdout",
     "output_type": "stream",
     "text": [
      "There are no duplicates in the dataset\n",
      "There are no null values\n"
     ]
    }
   ],
   "source": [
    "# Check for duplicates\n",
    "if df.iloc[: ,0].nunique() == df.shape[0]:\n",
    "    print('There are no duplicates in the dataset')\n",
    "else:\n",
    "    print('There are some duplicates in the dataset')\n",
    "\n",
    "if df.isnull().sum().sum() == 0:\n",
    "    print('There are no null values')\n",
    "else:\n",
    "    print('There are some null values')"
   ]
  },
  {
   "cell_type": "markdown",
   "id": "c58f2cb9",
   "metadata": {},
   "source": [
    "### 4. Data preprocessing"
   ]
  },
  {
   "cell_type": "markdown",
   "id": "ab97c4cc",
   "metadata": {},
   "source": [
    "In this activity, I will be interested in a conversion rate. I will filter out the impressions where users neither clicked the yes button nor the no button. In other words, I will be doing multiple A/B tests to figure out whether the conversion rate with a new creative ad is higher than with a dummy ad."
   ]
  },
  {
   "cell_type": "code",
   "execution_count": 8,
   "id": "2daad954",
   "metadata": {
    "ExecuteTime": {
     "end_time": "2023-10-19T19:51:15.035684Z",
     "start_time": "2023-10-19T19:51:15.020969Z"
    }
   },
   "outputs": [
    {
     "name": "stdout",
     "output_type": "stream",
     "text": [
      "The exposed group dataframe has 657 observations\n",
      "The control group dataframe has 586 observations\n",
      "The conversion rate in the exposed group is equal to 46.88%\n",
      "The conversion rate in the exposed group is equal to 45.05%\n"
     ]
    }
   ],
   "source": [
    "# Filter out users that were not interacting\n",
    "relevant_rows = df.query('yes == 1 | no == 1')\n",
    "\n",
    "# Divide a dataframe by exposed and control group\n",
    "exposed = relevant_rows.query('experiment == \"exposed\"')\n",
    "control = relevant_rows.query('experiment == \"control\"')\n",
    "\n",
    "# Calculate a number of observation in both groups\n",
    "print('The exposed group dataframe has {} observations'. format(exposed.shape[0]))\n",
    "print('The control group dataframe has {} observations'. format(control.shape[0]))\n",
    "\n",
    "contr_d1 = '{0:.2f}%'.format(exposed.yes.mean()*100)\n",
    "trtm_d1 = '{0:.2f}%'.format(control.yes.mean()*100)\n",
    "print('The conversion rate in the exposed group is equal to {}'.format(contr_d1))\n",
    "print('The conversion rate in the exposed group is equal to {}'.format(trtm_d1))"
   ]
  },
  {
   "cell_type": "markdown",
   "id": "a73d11f5",
   "metadata": {},
   "source": [
    "### 5. Null and Alternative Hypothesis"
   ]
  },
  {
   "cell_type": "markdown",
   "id": "6a2ea445",
   "metadata": {},
   "source": [
    "The null hypothesis would state that conversions would not change when using either the new creative ad or the dummy ad. We wanted to confirm the alternative hypothesis: the conversion rate of a new creative ad is higher than that of a dummy ad.\n",
    "\n",
    "𝑁𝑢𝑙𝑙 (𝐻0) 𝑎𝑛𝑑 𝐴𝑙𝑡𝑒𝑟𝑛𝑎𝑡𝑖𝑣𝑒 (𝐻1) 𝐻𝑦𝑝𝑜𝑡ℎ𝑒𝑠𝑖𝑠\n",
    " \n",
    "𝐻0: 𝑌𝑛𝑒𝑤− 𝑌𝑜𝑙𝑑=0\n",
    " \n",
    "𝐻1: 𝑌𝑛𝑒𝑤− 𝑌𝑜𝑙𝑑>0\n",
    "\n",
    "We need to set the significance level for the A/B test in advance. Let's say our alpha is 5%. This means that we will only reject the null hypothesis when the probability of observing a difference in sample proportions given that the null hypothesis is true is less than 5%. Since I'm interested in whether a new creative ad improves conversion rates, I'll use a one-tailed hypothesis test.\n",
    "\n",
    "    "
   ]
  },
  {
   "cell_type": "markdown",
   "id": "521a7ccd",
   "metadata": {},
   "source": [
    "### 6. Sampling distribution under the null"
   ]
  },
  {
   "cell_type": "code",
   "execution_count": 9,
   "id": "dcd7765a",
   "metadata": {
    "ExecuteTime": {
     "end_time": "2023-10-19T19:51:15.042535Z",
     "start_time": "2023-10-19T19:51:15.038195Z"
    }
   },
   "outputs": [
    {
     "name": "stdout",
     "output_type": "stream",
     "text": [
      "The observed difference in the conversion rate between the exposed and the control group is 1.83%\n"
     ]
    }
   ],
   "source": [
    "obs_diff = exposed.yes.mean() - control.yes.mean()\n",
    "obs_diff_form = '{0:.2f}%'.format(obs_diff*100)\n",
    "print('The observed difference in the conversion rate between the exposed and the control group is {}'.format(obs_diff_form))\n"
   ]
  },
  {
   "cell_type": "code",
   "execution_count": 10,
   "id": "c2d44496",
   "metadata": {
    "ExecuteTime": {
     "end_time": "2023-10-19T19:51:15.058187Z",
     "start_time": "2023-10-19T19:51:15.047515Z"
    }
   },
   "outputs": [
    {
     "name": "stdout",
     "output_type": "stream",
     "text": [
      "The sample sizes of the exposed group and control group are 657 and 586 respectively\n",
      "The number of conversions in the exposed group and control group is 308 and 264 respectively\n"
     ]
    }
   ],
   "source": [
    "exposed_converted = exposed.query('yes == 1')\n",
    "control_converted = control.query('yes == 1')\n",
    "print('The sample sizes of the exposed group and control group are {} and {} respectively'.format(exposed.shape[0], control.shape[0]))\n",
    "print('The number of conversions in the exposed group and control group is {} and {} respectively'.format(exposed_converted.shape[0],\n",
    "                                                                                          control_converted.shape[0]))"
   ]
  },
  {
   "cell_type": "code",
   "execution_count": 11,
   "id": "03b292d0",
   "metadata": {
    "ExecuteTime": {
     "end_time": "2023-10-19T19:51:15.065238Z",
     "start_time": "2023-10-19T19:51:15.060282Z"
    }
   },
   "outputs": [
    {
     "name": "stdout",
     "output_type": "stream",
     "text": [
      "P-value is equal to 25.92%\n"
     ]
    }
   ],
   "source": [
    "#storing number of conversions for exposed and control groups as numpy arrays\n",
    "count = np.array([exposed_converted.shape[0], control_converted.shape[0]])\n",
    "#storing sample sizes of exposed and control group as numpy arrays\n",
    "nobs = np.array([exposed.shape[0], control.shape[0]])\n",
    "#storing results of z test in variables\n",
    "stat, p_val = proportions_ztest(count, nobs, alternative = 'larger')\n",
    "p_form = '{0:.2f}%'.format(p_val*100)\n",
    "print('P-value is equal to {}'.format(p_form))\n"
   ]
  },
  {
   "cell_type": "code",
   "execution_count": 12,
   "id": "e6598c53",
   "metadata": {
    "ExecuteTime": {
     "end_time": "2023-10-19T19:51:15.088381Z",
     "start_time": "2023-10-19T19:51:15.066946Z"
    }
   },
   "outputs": [],
   "source": [
    "# Draw 100000 samples from binominal distribution\n",
    "exposed_simulation = np.random.binomial(exposed.shape[0], exposed.yes.mean(), 100000)/exposed.shape[0]\n",
    "control_simulation = np.random.binomial(control.shape[0], control.yes.mean(), 100000)/control.shape[0]\n",
    "p_diffs = exposed_simulation - control_simulation\n",
    "diffs = np.array(p_diffs)\n",
    "\n",
    "#Creation of normal distribution centered at zero\n",
    "null_vals = np.random.normal(0, np.std(diffs), len(diffs))"
   ]
  },
  {
   "cell_type": "code",
   "execution_count": 26,
   "id": "b9b919b6",
   "metadata": {
    "ExecuteTime": {
     "end_time": "2023-10-19T20:02:53.544202Z",
     "start_time": "2023-10-19T20:02:53.530916Z"
    },
    "scrolled": true
   },
   "outputs": [],
   "source": [
    "def statplot(data, lim, obs_stat, title):\n",
    "    \"\"\"\n",
    "    This function creates a plot, that represents sampling distribution. \n",
    "    This plot is formatted and has main statistics on it\n",
    "    Arguments:\n",
    "    data = array\n",
    "    lim = height of the plot\n",
    "    obs_stat = observed statistic\n",
    "    title = chart title\n",
    "    \"\"\"\n",
    "    \n",
    "    #Create a kdeplot\n",
    "    plt.figure(figsize=(12,4), tight_layout=True)\n",
    "    ax = sns.kdeplot(data, linewidth = 0.8, color = 'black')\n",
    "    \n",
    "    # Simple formatting\n",
    "    frame = ['right', 'left', 'top']\n",
    "    for i in frame:\n",
    "        ax.spines[i].set_visible(False)\n",
    "\n",
    "    plt.title(title)\n",
    "    plt.ylabel('')\n",
    "    plt.yticks([], [])\n",
    "    \n",
    "    # Legend\n",
    "    line = Line2D([0], [0], color='red', linestyle = '-', label='observed statistic')\n",
    "    line_dashed = Line2D([0], [0], color='black', linestyle = '--', label='mean and standard deviation')\n",
    "    plt.legend(handles=[line, line_dashed], loc='upper left');\n",
    "    \n",
    "    # Create a list of 3 standard deviation to the left and to the right and mean\n",
    "    std_list = []\n",
    "    std_list_format = []\n",
    "    for i in range(-3,4):\n",
    "        std_dev = np.std(data) * i + np.mean(data)\n",
    "        std_list.append(std_dev)\n",
    "        std_list_format.append('{0:.3f}'.format(std_dev) + '\\n {} std'.format(i))\n",
    "        \n",
    "    # Create a list of corresponding y values\n",
    "    data_x, data_y = ax.lines[0].get_data()\n",
    "    height = []\n",
    "    for i in std_list:\n",
    "        height.append(np.interp(i, data_x, data_y))\n",
    "        \n",
    "    # Plotting vertical lines representing std deviations \n",
    "    for a, b in zip(std_list, height):\n",
    "        plt.axvline(a, 0, b/lim, color = 'black', alpha = 1, linewidth = 0.8, linestyle = '--')\n",
    "        plt.plot(a, b, marker = 'o', color = 'blue')\n",
    "    \n",
    "    # Plotting observed statistic\n",
    "    obs_line_height = np.interp(obs_stat, data_x, data_y)\n",
    "    plt.axvline(obs_stat, 0, obs_line_height/lim, color = 'red', alpha = 1, linewidth = 0.8, linestyle = '-')\n",
    "    plt.plot(obs_stat, obs_line_height, marker = 'o', color = 'red')\n",
    "            \n",
    "    # Plotting x ticks\n",
    "    x_ticks = std_list\n",
    "    x_labels = std_list_format\n",
    "    plt.xticks(x_ticks, x_labels)\n",
    "    plt.ylim(0,lim)\n"
   ]
  },
  {
   "cell_type": "code",
   "execution_count": 27,
   "id": "2c96d6c5",
   "metadata": {
    "ExecuteTime": {
     "end_time": "2023-10-19T20:02:57.111930Z",
     "start_time": "2023-10-19T20:02:57.106492Z"
    }
   },
   "outputs": [],
   "source": [
    "def shading(df, left, right, color):\n",
    "    \n",
    "    \"\"\"\n",
    "    This function shades areas of the kde plot.\n",
    "    Arguments:\n",
    "    df = array\n",
    "    left = left boundary of the area to be shaded\n",
    "    right = right boundary of the area to be shaded\n",
    "    color = color\n",
    "    \"\"\"\n",
    "    \n",
    "    #Shading areas\n",
    "    kde = stats.gaussian_kde(df)\n",
    "    shade = np.linspace(left, right, 100)\n",
    "    plt.fill_between(shade, kde(shade), color = color, alpha = 0.5);"
   ]
  },
  {
   "cell_type": "code",
   "execution_count": 28,
   "id": "8e72327e",
   "metadata": {
    "ExecuteTime": {
     "end_time": "2023-10-19T20:02:58.921252Z",
     "start_time": "2023-10-19T20:02:57.964727Z"
    }
   },
   "outputs": [
    {
     "data": {
      "image/png": "[encoded data removed]",
      "text/plain": [
       "<Figure size 1200x400 with 1 Axes>"
      ]
     },
     "metadata": {},
     "output_type": "display_data"
    }
   ],
   "source": [
    "# Plotting the sampling distribution\n",
    "statplot(null_vals, 15, obs_diff, 'Sampling Distribution of the difference in sample proportions under the null hypothesis') \n",
    "shading(null_vals, obs_diff, null_vals.max(),'#aaffb5') \n",
    "shading(null_vals, null_vals.min(), obs_diff,'#cceefb') \n",
    "plt.text(0.075, 12, \"P-value = {}\".format(p_form), color = 'black', size = 9); "
   ]
  },
  {
   "cell_type": "markdown",
   "id": "ca6de845",
   "metadata": {},
   "source": [
    "The graph above is the sampling distribution of the difference in sample proportions under the null hypothesis. The observed difference in conversion rates is between the mean and the first standard deviation. The green shaded area starts with the observed difference in conversion rate and extends to the right end, which represents differences greater than those observed. The probability that the observed difference falls within the null hypothesis sampling distribution is 25.92%. Given that our significance level is 5%, we cannot reject the null hypothesis, i.e. We don't have enough evidence to conclude that the conversion rate with the new creative is higher than with the dummy ad."
   ]
  },
  {
   "cell_type": "markdown",
   "id": "47d28bae",
   "metadata": {},
   "source": [
    "### 7. Confidence intervals"
   ]
  },
  {
   "cell_type": "markdown",
   "id": "afc1a5bf",
   "metadata": {},
   "source": [
    "A/B testing can be done using confidence intervals. Hypothesis testing using confidence intervals involves conducting a two-sided hypothesis test. However, according to my alternative hypothesis, in which I want to prove that the conversion rate of the new creative ad is higher than that of the dummy ad, we want to conduct a one-sided hypothesis test. So I'll multiply my significance level by two, which gives me 5% x 2 = 10%. Thus, I want to prove that the mean of Hull's hypothesis falls outside the sampling distribution of the difference in sample proportions under the alternative hypothesis with 90% confidence."
   ]
  },
  {
   "cell_type": "code",
   "execution_count": 29,
   "id": "aebd4c78",
   "metadata": {
    "ExecuteTime": {
     "end_time": "2023-10-19T20:03:16.386977Z",
     "start_time": "2023-10-19T20:03:16.375568Z"
    }
   },
   "outputs": [
    {
     "name": "stdout",
     "output_type": "stream",
     "text": [
      "The 90% confidence interval falls between -0.02828080835958243 and 0.06485204695055077.\n"
     ]
    }
   ],
   "source": [
    "# Calculate z statistic\n",
    "zscore = stats.norm.ppf(1 - .05)\n",
    "\n",
    "# Calculate mean proportion for exposed group\n",
    "p1 = exposed.yes.mean()\n",
    "# Calculate mean proportion for control group\n",
    "p2 = control.yes.mean()\n",
    "# Calculate distance from the mean\n",
    "distance_from_mean = ((p1*(1-p1)/exposed.yes.shape[0]) + (p2*(1-p2)/control.yes.shape[0])) ** 0.5 * zscore\n",
    "\n",
    "# Lower boarder of the interval\n",
    "low = obs_diff - distance_from_mean\n",
    "# Higher boarder of the interval\n",
    "high = obs_diff + distance_from_mean\n",
    "\n",
    "print('The 90% confidence interval falls between {} and {}.'.format(low, high))"
   ]
  },
  {
   "cell_type": "code",
   "execution_count": 30,
   "id": "3e64a992",
   "metadata": {
    "ExecuteTime": {
     "end_time": "2023-10-19T20:03:18.486407Z",
     "start_time": "2023-10-19T20:03:17.175938Z"
    }
   },
   "outputs": [
    {
     "data": {
      "image/png": "[encoded data removed]",
      "text/plain": [
       "<Figure size 1200x400 with 1 Axes>"
      ]
     },
     "metadata": {},
     "output_type": "display_data"
    }
   ],
   "source": [
    "# Plotting the confidence interval\n",
    "statplot(diffs, 15, np.mean(null_vals), '90% confidence interval')\n",
    "shading(diffs, diffs.min(), low, '#aaffb5')\n",
    "shading(diffs, low, high, '#cceefb')\n",
    "shading(diffs, high, diffs.max(), '#aaffb5')"
   ]
  },
  {
   "cell_type": "markdown",
   "id": "31999162",
   "metadata": {
    "ExecuteTime": {
     "end_time": "2023-10-19T18:07:37.929519Z",
     "start_time": "2023-10-19T18:07:37.920709Z"
    }
   },
   "source": [
    "We can see here that our null hypothesis falls within the confidence interval. We can expect that 90% of confidence intervals would overlap with zero. Under the null hypothesis, our true difference in proportions is zero. Therefore, the P-value is higher than the significance level of 10%. (for the one-tailed test it would be 5%). Therefore, I do not have enough evidence to reject the null and suggest the alternative hypothesis."
   ]
  },
  {
   "cell_type": "markdown",
   "id": "c5548c84",
   "metadata": {},
   "source": [
    "### 8. Logistic Regression"
   ]
  },
  {
   "cell_type": "markdown",
   "id": "b7e92021",
   "metadata": {},
   "source": [
    "Use the logistic regression to calculate P-value to see if there is a significant difference in conversion based on which ad a user receives"
   ]
  },
  {
   "cell_type": "code",
   "execution_count": 31,
   "id": "1db07be6",
   "metadata": {
    "ExecuteTime": {
     "end_time": "2023-10-19T20:03:22.157905Z",
     "start_time": "2023-10-19T20:03:22.125746Z"
    }
   },
   "outputs": [
    {
     "name": "stdout",
     "output_type": "stream",
     "text": [
      "Optimization terminated successfully.\n",
      "         Current function value: 0.689804\n",
      "         Iterations 4\n"
     ]
    },
    {
     "data": {
      "text/html": [
       "<table class=\"simpletable\">\n",
       "<caption>Logit Regression Results</caption>\n",
       "<tr>\n",
       "  <th>Dep. Variable:</th>          <td>yes</td>       <th>  No. Observations:  </th>  <td>  1243</td>  \n",
       "</tr>\n",
       "<tr>\n",
       "  <th>Model:</th>                 <td>Logit</td>      <th>  Df Residuals:      </th>  <td>  1241</td>  \n",
       "</tr>\n",
       "<tr>\n",
       "  <th>Method:</th>                 <td>MLE</td>       <th>  Df Model:          </th>  <td>     1</td>  \n",
       "</tr>\n",
       "<tr>\n",
       "  <th>Date:</th>            <td>Thu, 19 Oct 2023</td> <th>  Pseudo R-squ.:     </th> <td>0.0002431</td>\n",
       "</tr>\n",
       "<tr>\n",
       "  <th>Time:</th>                <td>22:03:22</td>     <th>  Log-Likelihood:    </th> <td> -857.43</td> \n",
       "</tr>\n",
       "<tr>\n",
       "  <th>converged:</th>             <td>True</td>       <th>  LL-Null:           </th> <td> -857.64</td> \n",
       "</tr>\n",
       "<tr>\n",
       "  <th>Covariance Type:</th>     <td>nonrobust</td>    <th>  LLR p-value:       </th>  <td>0.5185</td>  \n",
       "</tr>\n",
       "</table>\n",
       "<table class=\"simpletable\">\n",
       "<tr>\n",
       "      <td></td>         <th>coef</th>     <th>std err</th>      <th>z</th>      <th>P>|z|</th>  <th>[0.025</th>    <th>0.975]</th>  \n",
       "</tr>\n",
       "<tr>\n",
       "  <th>intercept</th> <td>   -0.1986</td> <td>    0.083</td> <td>   -2.392</td> <td> 0.017</td> <td>   -0.361</td> <td>   -0.036</td>\n",
       "</tr>\n",
       "<tr>\n",
       "  <th>exposed</th>   <td>    0.0736</td> <td>    0.114</td> <td>    0.646</td> <td> 0.519</td> <td>   -0.150</td> <td>    0.297</td>\n",
       "</tr>\n",
       "</table>"
      ],
      "text/plain": [
       "<class 'statsmodels.iolib.summary.Summary'>\n",
       "\"\"\"\n",
       "                           Logit Regression Results                           \n",
       "==============================================================================\n",
       "Dep. Variable:                    yes   No. Observations:                 1243\n",
       "Model:                          Logit   Df Residuals:                     1241\n",
       "Method:                           MLE   Df Model:                            1\n",
       "Date:                Thu, 19 Oct 2023   Pseudo R-squ.:               0.0002431\n",
       "Time:                        22:03:22   Log-Likelihood:                -857.43\n",
       "converged:                       True   LL-Null:                       -857.64\n",
       "Covariance Type:            nonrobust   LLR p-value:                    0.5185\n",
       "==============================================================================\n",
       "                 coef    std err          z      P>|z|      [0.025      0.975]\n",
       "------------------------------------------------------------------------------\n",
       "intercept     -0.1986      0.083     -2.392      0.017      -0.361      -0.036\n",
       "exposed        0.0736      0.114      0.646      0.519      -0.150       0.297\n",
       "==============================================================================\n",
       "\"\"\""
      ]
     },
     "execution_count": 31,
     "metadata": {},
     "output_type": "execute_result"
    }
   ],
   "source": [
    "# Create dummy variables for experiment variable\n",
    "relevant_rows[['control', 'exposed']] = pd.get_dummies(relevant_rows.loc[:, 'experiment'])\n",
    "relevant_rows = relevant_rows.drop(['control'], axis = 1)\n",
    "# Add intercept\n",
    "relevant_rows['intercept'] = 1\n",
    "\n",
    "#set up logistic regression model\n",
    "logit_mod = sm.Logit(relevant_rows['yes'], relevant_rows[['intercept', 'exposed']])\n",
    "#fitting logistic regression model\n",
    "results = logit_mod.fit()\n",
    "#display summary results\n",
    "results.summary()"
   ]
  },
  {
   "cell_type": "markdown",
   "id": "c13e6c8a",
   "metadata": {},
   "source": [
    "If the P-value is high, then the variable is not significant and wise versa. Here, the P-value is 51.9%. Since logistic regression assumes that the test is two-sided and I conduct my test as one-sided, I will divide the P-value by 2 which will give me approx. 26%. Since 26% is higher than the level of significance, I fail to reject the null hypothesis in favor of the alternative."
   ]
  },
  {
   "cell_type": "markdown",
   "id": "d7c0eadb",
   "metadata": {},
   "source": [
    "### 9. Conclusions\n",
    "\n",
    "I conducted A/B tests in three different ways. All versions suggest that the P-value is greater than the significance level and we do not have enough evidence to reject the null hypothesis."
   ]
  }
 ],
 "metadata": {
  "kernelspec": {
   "display_name": "Python 3 (ipykernel)",
   "language": "python",
   "name": "python3"
  },
  "language_info": {
   "codemirror_mode": {
    "name": "ipython",
    "version": 3
   },
   "file_extension": ".py",
   "mimetype": "text/x-python",
   "name": "python",
   "nbconvert_exporter": "python",
   "pygments_lexer": "ipython3",
   "version": "3.9.15"
  }
 },
 "nbformat": 4,
 "nbformat_minor": 5
}
